{
 "cells": [
  {
   "cell_type": "markdown",
   "id": "859e2fc4-ac1c-4bc4-a5ee-53e857c81a98",
   "metadata": {},
   "source": [
    "## Inspect model locally\n",
    "\n",
    "### Install dependencies"
   ]
  },
  {
   "cell_type": "code",
   "execution_count": null,
   "id": "01ae59ba-4089-4318-957e-50482d0a7f86",
   "metadata": {},
   "outputs": [],
   "source": [
    "!pip install spacy\n",
    "!python -m spacy download en_core_web_md"
   ]
  },
  {
   "cell_type": "markdown",
   "id": "f42f159e-317f-4371-a6e3-bebce60e1a72",
   "metadata": {},
   "source": [
    "### Load model class"
   ]
  },
  {
   "cell_type": "code",
   "execution_count": null,
   "id": "73a2c442-7064-4397-9b1b-31b68d8c30fb",
   "metadata": {},
   "outputs": [],
   "source": [
    "from LocationDetector import LocationDetector\n",
    "\n",
    "location_detector = LocationDetector()"
   ]
  },
  {
   "cell_type": "markdown",
   "id": "5bb9c2bc-4f3a-4515-8570-68f6e3a7da17",
   "metadata": {},
   "source": [
    "### Test model with arbitrary input text"
   ]
  },
  {
   "cell_type": "code",
   "execution_count": null,
   "id": "60d20780-f8b0-4913-a09b-d6d392bb313c",
   "metadata": {},
   "outputs": [],
   "source": [
    "sample = 'My name is Clara and I live in Berkeley, California.'\n",
    "\n",
    "location_detector.predict([sample], _)"
   ]
  }
 ],
 "metadata": {
  "kernelspec": {
   "display_name": "Python 3 (ipykernel)",
   "language": "python",
   "name": "python3"
  },
  "language_info": {
   "codemirror_mode": {
    "name": "ipython",
    "version": 3
   },
   "file_extension": ".py",
   "mimetype": "text/x-python",
   "name": "python",
   "nbconvert_exporter": "python",
   "pygments_lexer": "ipython3",
   "version": "3.8.8"
  }
 },
 "nbformat": 4,
 "nbformat_minor": 5
}
